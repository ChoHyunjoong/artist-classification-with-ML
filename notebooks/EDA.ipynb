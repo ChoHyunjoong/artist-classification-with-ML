{
 "cells": [
  {
   "cell_type": "code",
   "execution_count": 23,
   "metadata": {},
   "outputs": [
    {
     "ename": "ModuleNotFoundError",
     "evalue": "No module named 'pil'",
     "output_type": "error",
     "traceback": [
      "\u001b[0;31m---------------------------------------------------------------------------\u001b[0m",
      "\u001b[0;31mModuleNotFoundError\u001b[0m                       Traceback (most recent call last)",
      "\u001b[0;32m<ipython-input-23-492610054f1a>\u001b[0m in \u001b[0;36m<module>\u001b[0;34m\u001b[0m\n\u001b[1;32m      2\u001b[0m \u001b[0;32mimport\u001b[0m \u001b[0mpandas\u001b[0m \u001b[0;32mas\u001b[0m \u001b[0mpd\u001b[0m\u001b[0;34m\u001b[0m\u001b[0;34m\u001b[0m\u001b[0m\n\u001b[1;32m      3\u001b[0m \u001b[0;32mimport\u001b[0m \u001b[0mglob\u001b[0m\u001b[0;34m\u001b[0m\u001b[0;34m\u001b[0m\u001b[0m\n\u001b[0;32m----> 4\u001b[0;31m \u001b[0;32mfrom\u001b[0m \u001b[0mpil\u001b[0m \u001b[0;32mimport\u001b[0m \u001b[0mImage\u001b[0m\u001b[0;34m\u001b[0m\u001b[0;34m\u001b[0m\u001b[0m\n\u001b[0m\u001b[1;32m      5\u001b[0m \u001b[0mget_ipython\u001b[0m\u001b[0;34m(\u001b[0m\u001b[0;34m)\u001b[0m\u001b[0;34m.\u001b[0m\u001b[0mrun_line_magic\u001b[0m\u001b[0;34m(\u001b[0m\u001b[0;34m'matplotlib'\u001b[0m\u001b[0;34m,\u001b[0m \u001b[0;34m'inline'\u001b[0m\u001b[0;34m)\u001b[0m\u001b[0;34m\u001b[0m\u001b[0;34m\u001b[0m\u001b[0m\n",
      "\u001b[0;31mModuleNotFoundError\u001b[0m: No module named 'pil'"
     ]
    }
   ],
   "source": [
    "import os\n",
    "import pandas as pd\n",
    "import glob\n",
    "from pil import Image\n",
    "%matplotlib inline"
   ]
  },
  {
   "cell_type": "code",
   "execution_count": 2,
   "metadata": {},
   "outputs": [],
   "source": [
    "data_dir = \"/Users/robin/Kaggle/best-artworks-of-all-time/\""
   ]
  },
  {
   "cell_type": "code",
   "execution_count": 3,
   "metadata": {},
   "outputs": [
    {
     "data": {
      "text/plain": [
       "['resized', '.DS_Store', 'images', 'artists.csv']"
      ]
     },
     "execution_count": 3,
     "metadata": {},
     "output_type": "execute_result"
    }
   ],
   "source": [
    "os.listdir(data_dir)"
   ]
  },
  {
   "cell_type": "markdown",
   "metadata": {},
   "source": [
    "The csv contains some general info about the artists"
   ]
  },
  {
   "cell_type": "code",
   "execution_count": 4,
   "metadata": {},
   "outputs": [],
   "source": [
    "df = pd.read_csv(data_dir + 'artists.csv', index_col=0)"
   ]
  },
  {
   "cell_type": "code",
   "execution_count": 5,
   "metadata": {},
   "outputs": [
    {
     "data": {
      "text/html": [
       "<div>\n",
       "<style scoped>\n",
       "    .dataframe tbody tr th:only-of-type {\n",
       "        vertical-align: middle;\n",
       "    }\n",
       "\n",
       "    .dataframe tbody tr th {\n",
       "        vertical-align: top;\n",
       "    }\n",
       "\n",
       "    .dataframe thead th {\n",
       "        text-align: right;\n",
       "    }\n",
       "</style>\n",
       "<table border=\"1\" class=\"dataframe\">\n",
       "  <thead>\n",
       "    <tr style=\"text-align: right;\">\n",
       "      <th></th>\n",
       "      <th>name</th>\n",
       "      <th>years</th>\n",
       "      <th>genre</th>\n",
       "      <th>nationality</th>\n",
       "      <th>bio</th>\n",
       "      <th>wikipedia</th>\n",
       "      <th>paintings</th>\n",
       "    </tr>\n",
       "    <tr>\n",
       "      <th>id</th>\n",
       "      <th></th>\n",
       "      <th></th>\n",
       "      <th></th>\n",
       "      <th></th>\n",
       "      <th></th>\n",
       "      <th></th>\n",
       "      <th></th>\n",
       "    </tr>\n",
       "  </thead>\n",
       "  <tbody>\n",
       "    <tr>\n",
       "      <th>0</th>\n",
       "      <td>Amedeo Modigliani</td>\n",
       "      <td>1884 - 1920</td>\n",
       "      <td>Expressionism</td>\n",
       "      <td>Italian</td>\n",
       "      <td>Amedeo Clemente Modigliani (Italian pronunciat...</td>\n",
       "      <td>http://en.wikipedia.org/wiki/Amedeo_Modigliani</td>\n",
       "      <td>193</td>\n",
       "    </tr>\n",
       "    <tr>\n",
       "      <th>1</th>\n",
       "      <td>Vasiliy Kandinskiy</td>\n",
       "      <td>1866 - 1944</td>\n",
       "      <td>Expressionism,Abstractionism</td>\n",
       "      <td>Russian</td>\n",
       "      <td>Wassily Wassilyevich Kandinsky (Russian: Васи́...</td>\n",
       "      <td>http://en.wikipedia.org/wiki/Wassily_Kandinsky</td>\n",
       "      <td>88</td>\n",
       "    </tr>\n",
       "    <tr>\n",
       "      <th>2</th>\n",
       "      <td>Diego Rivera</td>\n",
       "      <td>1886 - 1957</td>\n",
       "      <td>Social Realism,Muralism</td>\n",
       "      <td>Mexican</td>\n",
       "      <td>Diego María de la Concepción Juan Nepomuceno E...</td>\n",
       "      <td>http://en.wikipedia.org/wiki/Diego_Rivera</td>\n",
       "      <td>70</td>\n",
       "    </tr>\n",
       "    <tr>\n",
       "      <th>3</th>\n",
       "      <td>Claude Monet</td>\n",
       "      <td>1840 - 1926</td>\n",
       "      <td>Impressionism</td>\n",
       "      <td>French</td>\n",
       "      <td>Oscar-Claude Monet (; French: [klod mɔnɛ]; 14 ...</td>\n",
       "      <td>http://en.wikipedia.org/wiki/Claude_Monet</td>\n",
       "      <td>73</td>\n",
       "    </tr>\n",
       "    <tr>\n",
       "      <th>4</th>\n",
       "      <td>Rene Magritte</td>\n",
       "      <td>1898 - 1967</td>\n",
       "      <td>Surrealism,Impressionism</td>\n",
       "      <td>Belgian</td>\n",
       "      <td>René François Ghislain Magritte (French: [ʁəne...</td>\n",
       "      <td>http://en.wikipedia.org/wiki/René_Magritte</td>\n",
       "      <td>194</td>\n",
       "    </tr>\n",
       "  </tbody>\n",
       "</table>\n",
       "</div>"
      ],
      "text/plain": [
       "                  name        years                         genre nationality  \\\n",
       "id                                                                              \n",
       "0    Amedeo Modigliani  1884 - 1920                 Expressionism     Italian   \n",
       "1   Vasiliy Kandinskiy  1866 - 1944  Expressionism,Abstractionism     Russian   \n",
       "2         Diego Rivera  1886 - 1957       Social Realism,Muralism     Mexican   \n",
       "3         Claude Monet  1840 - 1926                 Impressionism      French   \n",
       "4        Rene Magritte  1898 - 1967      Surrealism,Impressionism     Belgian   \n",
       "\n",
       "                                                  bio  \\\n",
       "id                                                      \n",
       "0   Amedeo Clemente Modigliani (Italian pronunciat...   \n",
       "1   Wassily Wassilyevich Kandinsky (Russian: Васи́...   \n",
       "2   Diego María de la Concepción Juan Nepomuceno E...   \n",
       "3   Oscar-Claude Monet (; French: [klod mɔnɛ]; 14 ...   \n",
       "4   René François Ghislain Magritte (French: [ʁəne...   \n",
       "\n",
       "                                         wikipedia  paintings  \n",
       "id                                                             \n",
       "0   http://en.wikipedia.org/wiki/Amedeo_Modigliani        193  \n",
       "1   http://en.wikipedia.org/wiki/Wassily_Kandinsky         88  \n",
       "2        http://en.wikipedia.org/wiki/Diego_Rivera         70  \n",
       "3        http://en.wikipedia.org/wiki/Claude_Monet         73  \n",
       "4       http://en.wikipedia.org/wiki/René_Magritte        194  "
      ]
     },
     "execution_count": 5,
     "metadata": {},
     "output_type": "execute_result"
    }
   ],
   "source": [
    "df.head()"
   ]
  },
  {
   "cell_type": "code",
   "execution_count": 6,
   "metadata": {},
   "outputs": [
    {
     "data": {
      "text/plain": [
       "<matplotlib.axes._subplots.AxesSubplot at 0x11a4f6cf8>"
      ]
     },
     "execution_count": 6,
     "metadata": {},
     "output_type": "execute_result"
    },
    {
     "data": {
      "image/png": "[encoded data removed]",
      "text/plain": [
       "<Figure size 432x288 with 1 Axes>"
      ]
     },
     "metadata": {
      "needs_background": "light"
     },
     "output_type": "display_data"
    }
   ],
   "source": [
    "df['paintings'].hist(bins=50)"
   ]
  },
  {
   "cell_type": "markdown",
   "metadata": {},
   "source": [
    "most artists have fewer than 200 paintings, whilst a couple have very large numbers"
   ]
  },
  {
   "cell_type": "code",
   "execution_count": 7,
   "metadata": {},
   "outputs": [
    {
     "data": {
      "text/plain": [
       "Post-Impressionism                         4\n",
       "Baroque                                    4\n",
       "Northern Renaissance                       4\n",
       "Impressionism                              4\n",
       "High Renaissance                           3\n",
       "Romanticism                                3\n",
       "Impressionism,Post-Impressionism           2\n",
       "Surrealism                                 2\n",
       "Primitivism                                2\n",
       "Symbolism,Expressionism                    1\n",
       "Pop Art                                    1\n",
       "Proto Renaissance                          1\n",
       "Expressionism                              1\n",
       "Abstract Expressionism                     1\n",
       "Cubism                                     1\n",
       "Mannerism                                  1\n",
       "Suprematism                                1\n",
       "Surrealism,Impressionism                   1\n",
       "High Renaissance,Mannerism                 1\n",
       "Symbolism                                  1\n",
       "Byzantine Art                              1\n",
       "Symbolism,Art Nouveau                      1\n",
       "Primitivism,Surrealism                     1\n",
       "Realism                                    1\n",
       "Realism,Impressionism                      1\n",
       "Social Realism,Muralism                    1\n",
       "Symbolism,Post-Impressionism               1\n",
       "Expressionism,Abstractionism               1\n",
       "Neoplasticism                              1\n",
       "Early Renaissance                          1\n",
       "Expressionism,Abstractionism,Surrealism    1\n",
       "Name: genre, dtype: int64"
      ]
     },
     "execution_count": 7,
     "metadata": {},
     "output_type": "execute_result"
    }
   ],
   "source": [
    "df['genre'].value_counts()"
   ]
  },
  {
   "cell_type": "markdown",
   "metadata": {},
   "source": [
    "An artists can be in more than 1 genre"
   ]
  },
  {
   "cell_type": "code",
   "execution_count": 8,
   "metadata": {},
   "outputs": [
    {
     "data": {
      "text/html": [
       "<div>\n",
       "<style scoped>\n",
       "    .dataframe tbody tr th:only-of-type {\n",
       "        vertical-align: middle;\n",
       "    }\n",
       "\n",
       "    .dataframe tbody tr th {\n",
       "        vertical-align: top;\n",
       "    }\n",
       "\n",
       "    .dataframe thead th {\n",
       "        text-align: right;\n",
       "    }\n",
       "</style>\n",
       "<table border=\"1\" class=\"dataframe\">\n",
       "  <thead>\n",
       "    <tr style=\"text-align: right;\">\n",
       "      <th></th>\n",
       "      <th>name</th>\n",
       "      <th>years</th>\n",
       "      <th>genre</th>\n",
       "      <th>nationality</th>\n",
       "      <th>bio</th>\n",
       "      <th>wikipedia</th>\n",
       "      <th>paintings</th>\n",
       "    </tr>\n",
       "    <tr>\n",
       "      <th>id</th>\n",
       "      <th></th>\n",
       "      <th></th>\n",
       "      <th></th>\n",
       "      <th></th>\n",
       "      <th></th>\n",
       "      <th></th>\n",
       "      <th></th>\n",
       "    </tr>\n",
       "  </thead>\n",
       "  <tbody>\n",
       "    <tr>\n",
       "      <th>3</th>\n",
       "      <td>Claude Monet</td>\n",
       "      <td>1840 - 1926</td>\n",
       "      <td>Impressionism</td>\n",
       "      <td>French</td>\n",
       "      <td>Oscar-Claude Monet (; French: [klod mɔnɛ]; 14 ...</td>\n",
       "      <td>http://en.wikipedia.org/wiki/Claude_Monet</td>\n",
       "      <td>73</td>\n",
       "    </tr>\n",
       "    <tr>\n",
       "      <th>4</th>\n",
       "      <td>Rene Magritte</td>\n",
       "      <td>1898 - 1967</td>\n",
       "      <td>Surrealism,Impressionism</td>\n",
       "      <td>Belgian</td>\n",
       "      <td>René François Ghislain Magritte (French: [ʁəne...</td>\n",
       "      <td>http://en.wikipedia.org/wiki/René_Magritte</td>\n",
       "      <td>194</td>\n",
       "    </tr>\n",
       "    <tr>\n",
       "      <th>6</th>\n",
       "      <td>Edouard Manet</td>\n",
       "      <td>1832 - 1883</td>\n",
       "      <td>Realism,Impressionism</td>\n",
       "      <td>French</td>\n",
       "      <td>Édouard Manet (US: ; UK: ; French: [edwaʁ manɛ...</td>\n",
       "      <td>http://en.wikipedia.org/wiki/Édouard_Manet</td>\n",
       "      <td>90</td>\n",
       "    </tr>\n",
       "    <tr>\n",
       "      <th>15</th>\n",
       "      <td>Pierre-Auguste Renoir</td>\n",
       "      <td>1841 - 1919</td>\n",
       "      <td>Impressionism</td>\n",
       "      <td>French</td>\n",
       "      <td>Pierre-Auguste Renoir, commonly known as Augus...</td>\n",
       "      <td>http://en.wikipedia.org/wiki/Pierre-Auguste_Re...</td>\n",
       "      <td>336</td>\n",
       "    </tr>\n",
       "    <tr>\n",
       "      <th>20</th>\n",
       "      <td>Alfred Sisley</td>\n",
       "      <td>1839 - 1899</td>\n",
       "      <td>Impressionism</td>\n",
       "      <td>French,British</td>\n",
       "      <td>Alfred Sisley (; French: [sislɛ]; 30 October 1...</td>\n",
       "      <td>http://en.wikipedia.org/wiki/Alfred_Sisley</td>\n",
       "      <td>259</td>\n",
       "    </tr>\n",
       "    <tr>\n",
       "      <th>28</th>\n",
       "      <td>Henri Matisse</td>\n",
       "      <td>1869 - 1954</td>\n",
       "      <td>Impressionism,Post-Impressionism</td>\n",
       "      <td>French</td>\n",
       "      <td>Henri Émile Benoît Matisse (French: [ɑ̃ʁi emil...</td>\n",
       "      <td>http://en.wikipedia.org/wiki/Henri_Matisse</td>\n",
       "      <td>186</td>\n",
       "    </tr>\n",
       "    <tr>\n",
       "      <th>30</th>\n",
       "      <td>Edgar Degas</td>\n",
       "      <td>1834 - 1917</td>\n",
       "      <td>Impressionism</td>\n",
       "      <td>French</td>\n",
       "      <td>Edgar Degas (US:  or UK: ; born Hilaire-Germai...</td>\n",
       "      <td>http://en.wikipedia.org/wiki/Edgar_Degas</td>\n",
       "      <td>702</td>\n",
       "    </tr>\n",
       "    <tr>\n",
       "      <th>35</th>\n",
       "      <td>Camille Pissarro</td>\n",
       "      <td>1830 - 1903</td>\n",
       "      <td>Impressionism,Post-Impressionism</td>\n",
       "      <td>French</td>\n",
       "      <td>Camille Pissarro (French: [kamij pisaʁo]; 10 J...</td>\n",
       "      <td>https://en.wikipedia.org/wiki/Camille_Pissarro</td>\n",
       "      <td>91</td>\n",
       "    </tr>\n",
       "  </tbody>\n",
       "</table>\n",
       "</div>"
      ],
      "text/plain": [
       "                     name        years                             genre  \\\n",
       "id                                                                         \n",
       "3            Claude Monet  1840 - 1926                     Impressionism   \n",
       "4           Rene Magritte  1898 - 1967          Surrealism,Impressionism   \n",
       "6           Edouard Manet  1832 - 1883             Realism,Impressionism   \n",
       "15  Pierre-Auguste Renoir  1841 - 1919                     Impressionism   \n",
       "20          Alfred Sisley  1839 - 1899                     Impressionism   \n",
       "28          Henri Matisse  1869 - 1954  Impressionism,Post-Impressionism   \n",
       "30            Edgar Degas  1834 - 1917                     Impressionism   \n",
       "35       Camille Pissarro  1830 - 1903  Impressionism,Post-Impressionism   \n",
       "\n",
       "       nationality                                                bio  \\\n",
       "id                                                                      \n",
       "3           French  Oscar-Claude Monet (; French: [klod mɔnɛ]; 14 ...   \n",
       "4          Belgian  René François Ghislain Magritte (French: [ʁəne...   \n",
       "6           French  Édouard Manet (US: ; UK: ; French: [edwaʁ manɛ...   \n",
       "15          French  Pierre-Auguste Renoir, commonly known as Augus...   \n",
       "20  French,British  Alfred Sisley (; French: [sislɛ]; 30 October 1...   \n",
       "28          French  Henri Émile Benoît Matisse (French: [ɑ̃ʁi emil...   \n",
       "30          French  Edgar Degas (US:  or UK: ; born Hilaire-Germai...   \n",
       "35          French  Camille Pissarro (French: [kamij pisaʁo]; 10 J...   \n",
       "\n",
       "                                            wikipedia  paintings  \n",
       "id                                                                \n",
       "3           http://en.wikipedia.org/wiki/Claude_Monet         73  \n",
       "4          http://en.wikipedia.org/wiki/René_Magritte        194  \n",
       "6          http://en.wikipedia.org/wiki/Édouard_Manet         90  \n",
       "15  http://en.wikipedia.org/wiki/Pierre-Auguste_Re...        336  \n",
       "20         http://en.wikipedia.org/wiki/Alfred_Sisley        259  \n",
       "28         http://en.wikipedia.org/wiki/Henri_Matisse        186  \n",
       "30           http://en.wikipedia.org/wiki/Edgar_Degas        702  \n",
       "35     https://en.wikipedia.org/wiki/Camille_Pissarro         91  "
      ]
     },
     "execution_count": 8,
     "metadata": {},
     "output_type": "execute_result"
    }
   ],
   "source": [
    "impressionists = df[(df['genre'] == 'Impressionism') | \n",
    "                    (df['genre'] == 'Realism,Impressionism') |\n",
    "                    (df['genre'] == 'Impressionism,Post-Impressionism') |\n",
    "                    (df['genre'] == 'Surrealism,Impressionism')]\n",
    "impressionists"
   ]
  },
  {
   "cell_type": "markdown",
   "metadata": {},
   "source": [
    "TODO: Compare Degas & Renoir as painting at the same time and high number of images"
   ]
  },
  {
   "cell_type": "markdown",
   "metadata": {},
   "source": [
    "## Images"
   ]
  },
  {
   "cell_type": "code",
   "execution_count": 9,
   "metadata": {},
   "outputs": [
    {
     "data": {
      "text/plain": [
       "50"
      ]
     },
     "execution_count": 9,
     "metadata": {},
     "output_type": "execute_result"
    }
   ],
   "source": [
    "len(df['name'].unique())"
   ]
  },
  {
   "cell_type": "markdown",
   "metadata": {},
   "source": [
    "The actual images are in `images/`"
   ]
  },
  {
   "cell_type": "code",
   "execution_count": 10,
   "metadata": {},
   "outputs": [],
   "source": [
    "images_dir = glob.glob(data_dir + \"images/*\")"
   ]
  },
  {
   "cell_type": "code",
   "execution_count": 11,
   "metadata": {},
   "outputs": [
    {
     "data": {
      "text/plain": [
       "50"
      ]
     },
     "execution_count": 11,
     "metadata": {},
     "output_type": "execute_result"
    }
   ],
   "source": [
    "len(images_dir)"
   ]
  },
  {
   "cell_type": "code",
   "execution_count": 12,
   "metadata": {},
   "outputs": [
    {
     "data": {
      "text/plain": [
       "['/Users/robin/Kaggle/best-artworks-of-all-time/images/Piet_Mondrian',\n",
       " '/Users/robin/Kaggle/best-artworks-of-all-time/images/Diego_Velazquez',\n",
       " '/Users/robin/Kaggle/best-artworks-of-all-time/images/Edgar_Degas',\n",
       " '/Users/robin/Kaggle/best-artworks-of-all-time/images/Georges_Seurat',\n",
       " '/Users/robin/Kaggle/best-artworks-of-all-time/images/Francisco_Goya']"
      ]
     },
     "execution_count": 12,
     "metadata": {},
     "output_type": "execute_result"
    }
   ],
   "source": [
    "images_dir[:5]"
   ]
  },
  {
   "cell_type": "markdown",
   "metadata": {},
   "source": [
    "There are underscores in the names of the artists in images"
   ]
  },
  {
   "cell_type": "code",
   "execution_count": 13,
   "metadata": {},
   "outputs": [],
   "source": [
    "artists = [entry.split(\"/\")[-1] for entry in images_dir]"
   ]
  },
  {
   "cell_type": "code",
   "execution_count": 14,
   "metadata": {},
   "outputs": [
    {
     "name": "stdout",
     "output_type": "stream",
     "text": [
      "Piet_Mondrian 85\n"
     ]
    }
   ],
   "source": [
    "print(artists[0], len(glob.glob(data_dir + f\"images/{artists[0]}/*\")))"
   ]
  },
  {
   "cell_type": "code",
   "execution_count": 15,
   "metadata": {},
   "outputs": [],
   "source": [
    "images_ = {}\n",
    "\n",
    "for artist in artists:\n",
    "    images_[artist] = len(glob.glob(data_dir + f\"images/{artist}/*\"))"
   ]
  },
  {
   "cell_type": "code",
   "execution_count": 16,
   "metadata": {},
   "outputs": [],
   "source": [
    "ds = pd.Series(images_)"
   ]
  },
  {
   "cell_type": "code",
   "execution_count": 17,
   "metadata": {},
   "outputs": [
    {
     "data": {
      "text/plain": [
       "Vincent_van_Gogh             878\n",
       "Edgar_Degas                  703\n",
       "Pablo_Picasso                440\n",
       "Pierre-Auguste_Renoir        337\n",
       "Albrecht_Dürer              329\n",
       "Paul_Gauguin                 312\n",
       "Francisco_Goya               292\n",
       "Rembrandt                    263\n",
       "Alfred_Sisley                260\n",
       "Titian                       256\n",
       "Marc_Chagall                 240\n",
       "Rene_Magritte                195\n",
       "Amedeo_Modigliani            194\n",
       "Paul_Klee                    189\n",
       "Henri_Matisse                187\n",
       "Andy_Warhol                  182\n",
       "Mikhail_Vrubel               172\n",
       "Sandro_Botticelli            165\n",
       "Leonardo_da_Vinci            144\n",
       "Peter_Paul_Rubens            142\n",
       "Salvador_Dali                140\n",
       "Hieronymus_Bosch             138\n",
       "Pieter_Bruegel               135\n",
       "Diego_Velazquez              129\n",
       "Kazimir_Malevich             127\n",
       "Frida_Kahlo                  121\n",
       "Giotto_di_Bondone            120\n",
       "Gustav_Klimt                 118\n",
       "Raphael                      110\n",
       "Joan_Miro                    103\n",
       "Andrei_Rublev                100\n",
       "Camille_Pissarro              92\n",
       "Edouard_Manet                 91\n",
       "Vasiliy_Kandinskiy            89\n",
       "El_Greco                      88\n",
       "Piet_Mondrian                 85\n",
       "Jan_van_Eyck                  82\n",
       "Henri_de_Toulouse-Lautrec     82\n",
       "Claude_Monet                  74\n",
       "Diego_Rivera                  71\n",
       "Henri_Rousseau                71\n",
       "Edvard_Munch                  68\n",
       "William_Turner                67\n",
       "Gustave_Courbet               60\n",
       "Caravaggio                    56\n",
       "Michelangelo                  50\n",
       "Paul_Cezanne                  48\n",
       "Georges_Seurat                44\n",
       "Eugene_Delacroix              32\n",
       "Jackson_Pollock               25\n",
       "dtype: int64"
      ]
     },
     "execution_count": 17,
     "metadata": {},
     "output_type": "execute_result"
    }
   ],
   "source": [
    "ds.sort_values(ascending=False)"
   ]
  },
  {
   "cell_type": "markdown",
   "metadata": {},
   "source": [
    "## Resized images"
   ]
  },
  {
   "cell_type": "code",
   "execution_count": 18,
   "metadata": {},
   "outputs": [],
   "source": [
    "resized = glob.glob(data_dir + \"resized/*\")"
   ]
  },
  {
   "cell_type": "code",
   "execution_count": 20,
   "metadata": {},
   "outputs": [
    {
     "data": {
      "text/plain": [
       "'/Users/robin/Kaggle/best-artworks-of-all-time/resized/Gustav_Klimt_113.jpg'"
      ]
     },
     "execution_count": 20,
     "metadata": {},
     "output_type": "execute_result"
    }
   ],
   "source": [
    "resized[0]"
   ]
  },
  {
   "cell_type": "code",
   "execution_count": null,
   "metadata": {},
   "outputs": [],
   "source": []
  }
 ],
 "metadata": {
  "kernelspec": {
   "display_name": "Python 3",
   "language": "python",
   "name": "python3"
  },
  "language_info": {
   "codemirror_mode": {
    "name": "ipython",
    "version": 3
   },
   "file_extension": ".py",
   "mimetype": "text/x-python",
   "name": "python",
   "nbconvert_exporter": "python",
   "pygments_lexer": "ipython3",
   "version": "3.7.3"
  }
 },
 "nbformat": 4,
 "nbformat_minor": 4
}
